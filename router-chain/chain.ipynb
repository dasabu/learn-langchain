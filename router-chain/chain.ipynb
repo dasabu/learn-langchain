{
 "cells": [
  {
   "cell_type": "code",
   "execution_count": null,
   "id": "05321902",
   "metadata": {},
   "outputs": [],
   "source": [
    "import os\n",
    "from dotenv import load_dotenv\n",
    "\n",
    "from langchain_openai import ChatOpenAI\n",
    "from langchain.prompts import ChatPromptTemplate, PromptTemplate\n",
    "from langchain.chains import LLMChain"
   ]
  },
  {
   "cell_type": "code",
   "execution_count": 4,
   "id": "8c757318",
   "metadata": {},
   "outputs": [
    {
     "data": {
      "text/plain": [
       "True"
      ]
     },
     "execution_count": 4,
     "metadata": {},
     "output_type": "execute_result"
    }
   ],
   "source": [
    "load_dotenv()"
   ]
  },
  {
   "cell_type": "code",
   "execution_count": 5,
   "id": "47b060fc",
   "metadata": {},
   "outputs": [],
   "source": [
    "llm = ChatOpenAI(\n",
    "    api_key=os.getenv('OPENAI_API_KEY'),\n",
    "    model='gpt-4o-mini',\n",
    ")"
   ]
  },
  {
   "cell_type": "code",
   "execution_count": 6,
   "id": "c025c143",
   "metadata": {},
   "outputs": [],
   "source": [
    "biology_template = '''You are a very smart biology professor. \n",
    "You are great at answering questions about biology in a concise and easy to understand manner. \n",
    "When you don't know the answer to a question you admit that you don't know.\n",
    "\n",
    "Here is a question:\n",
    "{input}\n",
    "'''\n",
    "\n",
    "math_template = '''You are a very good mathematician. You are great at answering math questions. \n",
    "You are so good because you are able to break down hard problems into their component parts, \n",
    "answer the component parts, and then put them together to answer the broader question.\n",
    "\n",
    "Here is a question:\n",
    "{input}\n",
    "'''\n",
    "\n",
    "astronomy_template = '''You are a very good astronomer. You are great at answering astronomy questions. \n",
    "You are so good because you are able to break down hard problems into their component parts, \n",
    "answer the component parts, and then put them together to answer the broader question.\n",
    "\n",
    "Here is a question:\n",
    "{input}\n",
    "'''\n",
    "\n",
    "travel_agent_template = '''You are a very good travel agent with a large amount\n",
    "of knowledge when it comes to getting people the best deals and recommendations\n",
    "for travel, vacations, flights and world's best destinations for vacation. \n",
    "You are great at answering travel, vacation, flights, transportation, tourist guides questions. \n",
    "You are so good because you are able to break down hard problems into their component parts, \n",
    "answer the component parts, and then put them together to answer the broader question.\n",
    "\n",
    "Here is a question:\n",
    "{input}\n",
    "'''"
   ]
  },
  {
   "cell_type": "code",
   "execution_count": 7,
   "id": "47ffac08",
   "metadata": {},
   "outputs": [],
   "source": [
    "prompt_infos = [\n",
    "    {\n",
    "        'name': 'biology',\n",
    "        'description': 'Good for answering Biology related questions',\n",
    "        'prompt_template': biology_template\n",
    "    },\n",
    "    {\n",
    "        'name': 'math',\n",
    "        'description': 'Good for answering math questions',\n",
    "        'prompt_template': math_template,\n",
    "    },\n",
    "    {\n",
    "        'name': 'astronomy',\n",
    "        'description': 'Good for answering astronomy questions',\n",
    "        'prompt_template': astronomy_template,\n",
    "    },\n",
    "    {\n",
    "        'name': 'travel_agent',\n",
    "        'description': 'Good for answering travel, tourism and vacation questions',\n",
    "        'prompt_template': travel_agent_template,\n",
    "    },\n",
    "]"
   ]
  },
  {
   "cell_type": "code",
   "execution_count": 13,
   "id": "778e3f9f",
   "metadata": {},
   "outputs": [
    {
     "data": {
      "text/plain": [
       "{'biology': LLMChain(verbose=False, prompt=ChatPromptTemplate(input_variables=['input'], input_types={}, partial_variables={}, messages=[HumanMessagePromptTemplate(prompt=PromptTemplate(input_variables=['input'], input_types={}, partial_variables={}, template=\"You are a very smart biology professor. \\nYou are great at answering questions about biology in a concise and easy to understand manner. \\nWhen you don't know the answer to a question you admit that you don't know.\\n\\nHere is a question:\\n{input}\\n\"), additional_kwargs={})]), llm=ChatOpenAI(client=<openai.resources.chat.completions.completions.Completions object at 0x107441f90>, async_client=<openai.resources.chat.completions.completions.AsyncCompletions object at 0x107442990>, root_client=<openai.OpenAI object at 0x1074411d0>, root_async_client=<openai.AsyncOpenAI object at 0x1074420d0>, model_name='gpt-4o-mini', model_kwargs={}, openai_api_key=SecretStr('**********')), output_parser=StrOutputParser(), llm_kwargs={}),\n",
       " 'math': LLMChain(verbose=False, prompt=ChatPromptTemplate(input_variables=['input'], input_types={}, partial_variables={}, messages=[HumanMessagePromptTemplate(prompt=PromptTemplate(input_variables=['input'], input_types={}, partial_variables={}, template='You are a very good mathematician. You are great at answering math questions. \\nYou are so good because you are able to break down hard problems into their component parts, \\nanswer the component parts, and then put them together to answer the broader question.\\n\\nHere is a question:\\n{input}\\n'), additional_kwargs={})]), llm=ChatOpenAI(client=<openai.resources.chat.completions.completions.Completions object at 0x107441f90>, async_client=<openai.resources.chat.completions.completions.AsyncCompletions object at 0x107442990>, root_client=<openai.OpenAI object at 0x1074411d0>, root_async_client=<openai.AsyncOpenAI object at 0x1074420d0>, model_name='gpt-4o-mini', model_kwargs={}, openai_api_key=SecretStr('**********')), output_parser=StrOutputParser(), llm_kwargs={}),\n",
       " 'astronomy': LLMChain(verbose=False, prompt=ChatPromptTemplate(input_variables=['input'], input_types={}, partial_variables={}, messages=[HumanMessagePromptTemplate(prompt=PromptTemplate(input_variables=['input'], input_types={}, partial_variables={}, template='You are a very good astronomer. You are great at answering astronomy questions. \\nYou are so good because you are able to break down hard problems into their component parts, \\nanswer the component parts, and then put them together to answer the broader question.\\n\\nHere is a question:\\n{input}\\n'), additional_kwargs={})]), llm=ChatOpenAI(client=<openai.resources.chat.completions.completions.Completions object at 0x107441f90>, async_client=<openai.resources.chat.completions.completions.AsyncCompletions object at 0x107442990>, root_client=<openai.OpenAI object at 0x1074411d0>, root_async_client=<openai.AsyncOpenAI object at 0x1074420d0>, model_name='gpt-4o-mini', model_kwargs={}, openai_api_key=SecretStr('**********')), output_parser=StrOutputParser(), llm_kwargs={}),\n",
       " 'travel_agent': LLMChain(verbose=False, prompt=ChatPromptTemplate(input_variables=['input'], input_types={}, partial_variables={}, messages=[HumanMessagePromptTemplate(prompt=PromptTemplate(input_variables=['input'], input_types={}, partial_variables={}, template=\"You are a very good travel agent with a large amount\\nof knowledge when it comes to getting people the best deals and recommendations\\nfor travel, vacations, flights and world's best destinations for vacation. \\nYou are great at answering travel, vacation, flights, transportation, tourist guides questions. \\nYou are so good because you are able to break down hard problems into their component parts, \\nanswer the component parts, and then put them together to answer the broader question.\\n\\nHere is a question:\\n{input}\\n\"), additional_kwargs={})]), llm=ChatOpenAI(client=<openai.resources.chat.completions.completions.Completions object at 0x107441f90>, async_client=<openai.resources.chat.completions.completions.AsyncCompletions object at 0x107442990>, root_client=<openai.OpenAI object at 0x1074411d0>, root_async_client=<openai.AsyncOpenAI object at 0x1074420d0>, model_name='gpt-4o-mini', model_kwargs={}, openai_api_key=SecretStr('**********')), output_parser=StrOutputParser(), llm_kwargs={})}"
      ]
     },
     "execution_count": 13,
     "metadata": {},
     "output_type": "execute_result"
    }
   ],
   "source": [
    "destination_chains = {}\n",
    "\n",
    "for info in prompt_infos:\n",
    "    name = info['name']\n",
    "    prompt_template = info['prompt_template']\n",
    "    prompt = ChatPromptTemplate.from_template(template=prompt_template)\n",
    "    chain = LLMChain(llm=llm, prompt=prompt)\n",
    "    # chain = prompt | llm\n",
    "    destination_chains[name] = chain\n",
    "    \n",
    "destination_chains"
   ]
  },
  {
   "cell_type": "code",
   "execution_count": null,
   "id": "4613bc5c",
   "metadata": {},
   "outputs": [
    {
     "data": {
      "text/plain": [
       "LLMChain(verbose=False, prompt=ChatPromptTemplate(input_variables=['input'], input_types={}, partial_variables={}, messages=[HumanMessagePromptTemplate(prompt=PromptTemplate(input_variables=['input'], input_types={}, partial_variables={}, template='{input}'), additional_kwargs={})]), llm=ChatOpenAI(client=<openai.resources.chat.completions.completions.Completions object at 0x107441f90>, async_client=<openai.resources.chat.completions.completions.AsyncCompletions object at 0x107442990>, root_client=<openai.OpenAI object at 0x1074411d0>, root_async_client=<openai.AsyncOpenAI object at 0x1074420d0>, model_name='gpt-4o-mini', model_kwargs={}, openai_api_key=SecretStr('**********')), output_parser=StrOutputParser(), llm_kwargs={})"
      ]
     },
     "execution_count": 15,
     "metadata": {},
     "output_type": "execute_result"
    }
   ],
   "source": [
    "# Default chain\n",
    "default_prompt = ChatPromptTemplate.from_template('{input}')\n",
    "\n",
    "default_chain = LLMChain(llm=llm, prompt=default_prompt)"
   ]
  },
  {
   "cell_type": "code",
   "execution_count": null,
   "id": "66b6ddd5",
   "metadata": {},
   "outputs": [
    {
     "data": {
      "text/plain": [
       "LLMRouterChain(verbose=False, llm_chain=LLMChain(verbose=False, prompt=PromptTemplate(input_variables=['input'], input_types={}, output_parser=RouterOutputParser(), partial_variables={}, template='Given a raw text input to a language model select the model prompt best suited for the input. You will be given the names of the available prompts and a description of what the prompt is best suited for. You may also revise the original input if you think that revising it will ultimately lead to a better response from the language model.\\n\\n<< FORMATTING >>\\nReturn a markdown code snippet with a JSON object formatted to look like:\\n```json\\n{{\\n    \"destination\": string \\\\ name of the prompt to use or \"DEFAULT\"\\n    \"next_inputs\": string \\\\ a potentially modified version of the original input\\n}}\\n```\\n\\nREMEMBER: \"destination\" MUST be one of the candidate prompt names specified below OR it can be \"DEFAULT\" if the input is not well suited for any of the candidate prompts.\\nREMEMBER: \"next_inputs\" can just be the original input if you don\\'t think any modifications are needed.\\n\\n<< CANDIDATE PROMPTS >>\\nbiology: Good for answering Biology related questions\\nmath: Good for answering math questions\\nastronomy: Good for answering astronomy questions\\ntravel_agent: Good for answering travel, tourism and vacation questions\\n\\n<< INPUT >>\\n{input}\\n\\n<< OUTPUT (must include ```json at the start of the response) >>\\n<< OUTPUT (must end with ```) >>\\n'), llm=ChatOpenAI(client=<openai.resources.chat.completions.completions.Completions object at 0x107441f90>, async_client=<openai.resources.chat.completions.completions.AsyncCompletions object at 0x107442990>, root_client=<openai.OpenAI object at 0x1074411d0>, root_async_client=<openai.AsyncOpenAI object at 0x1074420d0>, model_name='gpt-4o-mini', model_kwargs={}, openai_api_key=SecretStr('**********')), output_parser=StrOutputParser(), llm_kwargs={}))"
      ]
     },
     "execution_count": 21,
     "metadata": {},
     "output_type": "execute_result"
    }
   ],
   "source": [
    "# Setup router\n",
    "from langchain.chains.router.multi_prompt_prompt import MULTI_PROMPT_ROUTER_TEMPLATE\n",
    "from langchain.chains.router.llm_router import LLMRouterChain, RouterOutputParser\n",
    "\n",
    "destinations = [f'{p[\"name\"]}: {p[\"description\"]}' for p in prompt_infos]\n",
    "destinations_str = '\\n'.join(destinations)\n",
    "\n",
    "router_template = MULTI_PROMPT_ROUTER_TEMPLATE.format(destinations=destinations_str)\n",
    "\n",
    "router_prompt = PromptTemplate(\n",
    "    template=router_template,\n",
    "    input_variables=[\"input\"],\n",
    "    output_parser=RouterOutputParser()\n",
    ")\n",
    "\n",
    "router_chain = LLMRouterChain.from_llm(llm, router_prompt)"
   ]
  },
  {
   "cell_type": "code",
   "execution_count": 22,
   "id": "67df290d",
   "metadata": {},
   "outputs": [
    {
     "name": "stderr",
     "output_type": "stream",
     "text": [
      "/var/folders/fl/gms0qrfn1vb9675l1rjr6x2r0000gn/T/ipykernel_54867/1421187625.py:3: LangChainDeprecationWarning: Please see migration guide here for recommended implementation: https://python.langchain.com/docs/versions/migrating_chains/multi_prompt_chain/\n",
      "  chain = MultiPromptChain(\n"
     ]
    }
   ],
   "source": [
    "from langchain.chains.router import MultiPromptChain\n",
    "\n",
    "chain = MultiPromptChain(\n",
    "    router_chain=router_chain,\n",
    "    destination_chains=destination_chains,\n",
    "    default_chain=default_chain,\n",
    "    verbose=True\n",
    ")"
   ]
  },
  {
   "cell_type": "code",
   "execution_count": 26,
   "id": "af9f5ca6",
   "metadata": {},
   "outputs": [
    {
     "name": "stdout",
     "output_type": "stream",
     "text": [
      "\n",
      "\n",
      "\u001b[1m> Entering new MultiPromptChain chain...\u001b[0m\n",
      "astronomy: {'input': 'Tell me some big secrets about the universe and galaxies.'}\n",
      "\u001b[1m> Finished chain.\u001b[0m\n",
      "Exploring the universe and galaxies is filled with fascinating discoveries and mysteries. Let’s break down some \"big secrets\" into component parts to better understand them. \n",
      "\n",
      "### 1. **The Expansion of the Universe**\n",
      "   - **Component Part**: Redshift\n",
      "     - **Explanation**: The light from distant galaxies is redshifted, meaning it shifts to longer wavelengths as the universe expands. This was first observed by Edwin Hubble.\n",
      "   - **Connection**: The redshift not only indicates that galaxies are moving away from us, but also helps astronomers calculate the rate of expansion, leading to the understanding of the \"Hubble Constant.\"\n",
      "\n",
      "### 2. **Dark Matter**\n",
      "   - **Component Part**: Gravitational effects\n",
      "     - **Explanation**: Unable to be seen or detected directly, dark matter influences the motion of galaxies and clusters through its gravitational pull.\n",
      "   - **Connection**: Studies of galaxy rotation curves, gravitational lensing, and cosmic microwave background radiation all point to the presence of dark matter, suggesting it makes up about 27% of the universe’s mass-energy content.\n",
      "\n",
      "### 3. **Dark Energy**\n",
      "   - **Component Part**: Accelerating expansion\n",
      "     - **Explanation**: Observations indicate that the expansion of the universe is accelerating, which is attributed to a mysterious force known as dark energy, making up about 68% of the universe.\n",
      "   - **Connection**: The nature of dark energy remains one of the greatest mysteries in cosmology, influencing the fate of the universe.\n",
      "\n",
      "### 4. **Galactic Formation and Evolution**\n",
      "   - **Component Part**: Hierarchical structure formation\n",
      "     - **Explanation**: The current model of galaxies being built through the merging and accretion of smaller structures over time is foundational in understanding galaxy evolution.\n",
      "   - **Connection**: This model helps explain the variety of galaxy types we observe and their distribution in the universe.\n",
      "\n",
      "### 5. **Black Holes**\n",
      "   - **Component Part**: Event horizon and singularity\n",
      "     - **Explanation**: A black hole's event horizon marks the point of no return where gravity is so strong that nothing can escape, while at its core lies the singularity, a point of infinite density.\n",
      "   - **Connection**: Recent discoveries of supermassive black holes at the centers of galaxies challenge our understanding of galaxy formation and evolution.\n",
      "\n",
      "### 6. **The Cosmic Microwave Background (CMB)**\n",
      "   - **Component Part**: Remnant radiation\n",
      "     - **Explanation**: The CMB is the afterglow radiation from the Big Bang, filling the universe and providing a snapshot of the early universe.\n",
      "   - **Connection**: Analyzing the CMB has provided evidence for the Big Bang theory and insights into the universe's age, composition, and overall geometry.\n",
      "\n",
      "### 7. **The Multiverse Theory**\n",
      "   - **Component Part**: Alternate realities\n",
      "     - **Explanation**: Some interpretations of quantum mechanics and cosmic inflation suggest the existence of multiple, possibly infinite, universes besides our own.\n",
      "   - **Connection**: While currently theoretical and highly speculative, the multiverse theory raises profound questions about the nature of reality, space, and time.\n",
      "\n",
      "### 8. **Life Beyond Earth**\n",
      "   - **Component Part**: Extremophiles and habitable zones\n",
      "     - **Explanation**: Organisms that thrive in extreme environments on Earth (extremophiles) suggest that life could potentially exist in harsh conditions elsewhere in the universe.\n",
      "   - **Connection**: The search for exoplanets in habitable zones around stars broadens the scope of the search for extraterrestrial life.\n",
      "\n",
      "### Putting It All Together\n",
      "When we consider these secrets collectively, they reveal a universe that is dynamic, complex, and still largely unknown. Each component—from dark matter and dark energy to the theory of a multiverse—supports and influences our understanding of the cosmos. The interplay of these factors not only shapes the structure of galaxies but also our existential understanding of where we fit into this vast universe. The ongoing exploration and study of these concepts continue to inspire scientists and astronomers to unlock even more secrets about our universe.\n"
     ]
    }
   ],
   "source": [
    "# Test\n",
    "# question = 'I need to go to Kenya for vacation. Can you help me plan a trip for a family of 4?'\n",
    "# question = 'How to calculate square root of 2?'\n",
    "question = 'Tell me some big secret about the universe and galaxies'\n",
    "\n",
    "response = chain.run(question)\n",
    "print(response)"
   ]
  },
  {
   "cell_type": "code",
   "execution_count": null,
   "id": "89f34e00",
   "metadata": {},
   "outputs": [],
   "source": []
  }
 ],
 "metadata": {
  "kernelspec": {
   "display_name": ".venv",
   "language": "python",
   "name": "python3"
  },
  "language_info": {
   "codemirror_mode": {
    "name": "ipython",
    "version": 3
   },
   "file_extension": ".py",
   "mimetype": "text/x-python",
   "name": "python",
   "nbconvert_exporter": "python",
   "pygments_lexer": "ipython3",
   "version": "3.13.1"
  }
 },
 "nbformat": 4,
 "nbformat_minor": 5
}
